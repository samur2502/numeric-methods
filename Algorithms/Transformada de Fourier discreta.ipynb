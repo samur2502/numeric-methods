{
 "cells": [
  {
   "cell_type": "code",
   "execution_count": null,
   "id": "798b4f02",
   "metadata": {},
   "outputs": [],
   "source": [
    "import numpy as np"
   ]
  },
  {
   "cell_type": "markdown",
   "id": "b9db8ef6",
   "metadata": {},
   "source": [
    "# Transformadas e Séries de Fourier"
   ]
  },
  {
   "cell_type": "markdown",
   "id": "86f494c9",
   "metadata": {},
   "source": [
    "## Coeficientes da Transformada "
   ]
  },
  {
   "cell_type": "code",
   "execution_count": null,
   "id": "7189a7bc",
   "metadata": {},
   "outputs": [],
   "source": [
    "def Fourier(y):\n",
    "    N = len(y)\n",
    "    c = np.zeros(N//2+1,complex)\n",
    "    K = np.zeros(N//2+1, int)            \n",
    "    for k in range(N//2+1):\n",
    "        for n in range(N):\n",
    "            c[k] += y[n]*np.exp(-2j*np.pi*k*n/N)\n",
    "        K[k] = k\n",
    "    return c, K      "
   ]
  },
  {
   "cell_type": "markdown",
   "id": "7b494fe6",
   "metadata": {},
   "source": [
    "## Coeficientes da Transformada rápidas de Fourier"
   ]
  },
  {
   "cell_type": "code",
   "execution_count": null,
   "id": "c2d2c6fd",
   "metadata": {},
   "outputs": [],
   "source": [
    "cp = np.fft.rfft(dados)"
   ]
  },
  {
   "cell_type": "markdown",
   "id": "e3e61452",
   "metadata": {},
   "source": [
    "## Coeficientes da Transformada Inversa de Fourier"
   ]
  },
  {
   "cell_type": "code",
   "execution_count": null,
   "id": "209512d9",
   "metadata": {},
   "outputs": [],
   "source": [
    "ckinv = np.fft.irfft(dados)"
   ]
  }
 ],
 "metadata": {
  "kernelspec": {
   "display_name": "Python 3 (ipykernel)",
   "language": "python",
   "name": "python3"
  },
  "language_info": {
   "codemirror_mode": {
    "name": "ipython",
    "version": 3
   },
   "file_extension": ".py",
   "mimetype": "text/x-python",
   "name": "python",
   "nbconvert_exporter": "python",
   "pygments_lexer": "ipython3",
   "version": "3.9.11"
  }
 },
 "nbformat": 4,
 "nbformat_minor": 5
}
