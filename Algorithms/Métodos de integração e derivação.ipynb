{
 "cells": [
  {
   "cell_type": "code",
   "execution_count": null,
   "id": "42554a31",
   "metadata": {},
   "outputs": [],
   "source": [
    "import numpy as np\n",
    "f = lambda x: np.sin(x)"
   ]
  },
  {
   "cell_type": "markdown",
   "id": "ae13799c",
   "metadata": {},
   "source": [
    "## Regra do Trapézio\n",
    "\n",
    "$$I(a,b) = \\int_{a}^{b}{f(x)}dx$$\n",
    "       \n",
    "$$I(a,b) \\approx h\\left[\\frac{1}{2}f(a) + \\frac{1}{2}f(b) + \\sum_{k=1}^{N-1}{f(a+kh)}\\right]$$\n",
    "$$\\\\$$\n",
    "Erro:\n",
    "$$\\epsilon_{1} = \\frac{1}{12}h^2[f'(a)-f'(b)]$$\n",
    "$$\\$$\n",
    "$$\\epsilon_{2} = \\frac{1}{3} \\left( I_{2} - I_{1} \\right)$$"
   ]
  },
  {
   "cell_type": "code",
   "execution_count": null,
   "id": "113c0602",
   "metadata": {},
   "outputs": [],
   "source": [
    "def solveTrapezio(func, a, b, N):\n",
    "    x = np.linspace(a, b, N + 1)\n",
    "    f = func(x)\n",
    "    dx = x[1]-x[0]\n",
    "    \n",
    "    soma = 0.5 * (f[0] + f[-1])\n",
    "    return (f[1:-1].sum() + soma) * dx\n",
    "\n",
    "\n",
    "def solveTrapezioErro(func, a, b, ERRO):\n",
    "    \n",
    "    def Ii2(func, a, b, N):\n",
    "        x = np.linspace(a, b, N + 1)\n",
    "        f = func(x)\n",
    "        dx = x[1]-x[0]\n",
    "        soma = 0\n",
    "        return (f[1:-1:2].sum()) * dx\n",
    "\n",
    "    R = np.empty((100,100))\n",
    "    R[0,0] = (b-a)*(func(b)+func(a))/2\n",
    "    \n",
    "    N = 1\n",
    "    i = 0\n",
    "    epsilon = 1\n",
    "\n",
    "    while epsilon > ERRO:\n",
    "        N *= 2\n",
    "        i+=1\n",
    "        R[i,0] = R[i-1,0]/2 + Ii2(func, 0, 1, N)\n",
    "    \n",
    "        tabela = \"\\n\"\n",
    "        tabela += \"N = {} \\n\".format(N)\n",
    "        tabela +=\"I{} = {}\\n\".format(i,R[i,0])\n",
    "    \n",
    "        epsilon = abs(R[i,0]-R[i-1,0])/3\n",
    "        tabela += f\"Erro: {epsilon}\"\n",
    "        \n",
    "        print(tabela)\n"
   ]
  },
  {
   "cell_type": "code",
   "execution_count": null,
   "id": "33e7b76a",
   "metadata": {},
   "outputs": [],
   "source": [
    "solveTrapezioErro(f,0,1,1e-6)"
   ]
  },
  {
   "cell_type": "markdown",
   "id": "03296e25",
   "metadata": {},
   "source": [
    "## Regra de Simpson\n",
    "\n",
    "$$I(a,b) \\approx \\frac{1}{3}h\\left[f(a)+f(b)+4\\sum_{k\\space odd}^{N-1}{f(a+kh)}+2\\sum_{k\\space even}^{N-2}{f(a+kh)}\\right]$$\n",
    "$$\\\\$$\n",
    "Erro:\n",
    "$$\\epsilon_{1} = \\frac{1}{90}h^4[f'''(a)-f'''(b)]$$\n",
    "$$\\$$\n",
    "$$\\epsilon_{2} = \\frac{1}{15} \\left( I_{2} - I_{1} \\right)$$"
   ]
  },
  {
   "cell_type": "code",
   "execution_count": null,
   "id": "5c02efa6",
   "metadata": {},
   "outputs": [],
   "source": [
    "def solveSimpson(func, a, b, N): \n",
    "    x = np.linspace(a, b, 2*N+1)\n",
    "    f = func(x)\n",
    "    h = x[1]-x[0]\n",
    "    return (h/3) * (f[0] + f[-1] + 2*sum(f[2:-1:2]) + 4*sum(f[1:-1:2]))\n",
    "\n",
    "\n",
    "def solveSimpsonErro(func, a, b, ERRO):\n",
    "\n",
    "    def Ii(f, a, b, N):\n",
    "        h = (b - a) / N \n",
    "        s = 0\n",
    "        for k in range(1,N//2+1):\n",
    "            s += f(a + (2*k-1)*h)    \n",
    "        return s*h\n",
    "\n",
    "    R = np.empty((100,100))\n",
    "    R[0,0] = (b-a)*(f(b)+f(a))/2\n",
    "    \n",
    "    epsilon = 1\n",
    "    N = 1\n",
    "    i = 0\n",
    "\n",
    "    while epsilon> ERRO:\n",
    "    \n",
    "        N *= 2\n",
    "        i+=1\n",
    "    \n",
    "        R[i,0] = R[i-1,0]/2 + Ii(f, 0, 1, N)\n",
    "    \n",
    "        tabela = \"\\n\"\n",
    "        tabela +=\"I{} = {:.8f}\\n\".format(i, R[i,0])\n",
    "    \n",
    "        for m in range(i):\n",
    "            R[i,m+1] = R[i,m] + (R[i,m] - R[i-1,m])/(4**(m+1)-1)\n",
    "        \n",
    "            tabela += f\"R[{i},{m+1}] = {R[i,m]:.8f}  |  \"\n",
    "    \n",
    "        epsilon = abs(R[i,m+1]-R[i-1,m])\n",
    "        tabela += f\"\\nErro: {epsilon:.8f}\"\n",
    "\n",
    "        print(tabela)\n"
   ]
  },
  {
   "cell_type": "code",
   "execution_count": null,
   "id": "91a83f47",
   "metadata": {},
   "outputs": [],
   "source": [
    "solveSimpsonErro(f, 0, 1, 1e-6)"
   ]
  },
  {
   "cell_type": "markdown",
   "id": "3c8b8826",
   "metadata": {},
   "source": [
    "## Método de Romberg\n",
    "$$S_{i}\\ = \\frac{1}{3}\\left[f(a) + f(b) + 2\\sum_{k par}^{N-1}{f(a+khi)}\\right]$$ \n",
    "$$\\\\$$\n",
    "$$T_{i}\\ = \\frac{2}{3}\\sum_{k impar}^{N}{f(a+khi)}$$ \n",
    "\n",
    "$$S_{i}\\ = S_{i-1} + T_{i-1}$$\n",
    "\n",
    "$$I_{i}\\ = h_{i}(S_{i} + 2T_{i})$$\n",
    "Erro:\n",
    "$$\\epsilon_{i} = \\frac{1}{5}(I_{i}-I_{i-1})$$"
   ]
  },
  {
   "cell_type": "code",
   "execution_count": null,
   "id": "29699575",
   "metadata": {},
   "outputs": [],
   "source": [
    "def solveRomberg(func, a, b, ERRO):\n",
    "\n",
    "    N = 2\n",
    "    h = (b - a) / N\n",
    "    keven = np.arange(2,N-1,2)\n",
    "    kodd = np.arange(1,N,2)\n",
    "    \n",
    "    S = (1/3) * (func(a) + func(b) + np.sum(func(a + keven*h)))\n",
    "    T = (2/3) * (np.sum(func(a + kodd*h)))\n",
    "    I1 = h * (S + 2*T)\n",
    "    \n",
    "    epsilon = 1\n",
    "    i = 0\n",
    "\n",
    "    while epsilon> ERRO:\n",
    "        \n",
    "        i += 1\n",
    "        N = N*2\n",
    "        h = (b-a)/N\n",
    "        S = S+T\n",
    "        kodd = np.arange(1,N,2)\n",
    "        T = (2/3) * (np.sum(func(a + kodd*h)))\n",
    "        I2 = h * (S + 2*T)\n",
    "        epsilon = np.abs((1/15) * (I2 - I1))\n",
    "        I1 = I2\n",
    "    \n",
    "        tabela = \"\\n\"\n",
    "        tabela += f\"N = {N} \\n\"\n",
    "        tabela += f\"I{i} = {I1}\\n\"\n",
    "    \n",
    "        tabela += f\"Erro: {epsilon}\"\n",
    "\n",
    "        print(tabela)"
   ]
  },
  {
   "cell_type": "code",
   "execution_count": null,
   "id": "f704d6e5",
   "metadata": {},
   "outputs": [],
   "source": [
    "solveRomberg(f, 0, 1, 1e-6)"
   ]
  },
  {
   "cell_type": "markdown",
   "id": "ecbd5a7f",
   "metadata": {},
   "source": [
    "## Quadratura de Gauss"
   ]
  },
  {
   "cell_type": "code",
   "execution_count": null,
   "id": "31d7991a",
   "metadata": {},
   "outputs": [],
   "source": [
    "def solveGaussLegendre(f, a, b, N):\n",
    "    \n",
    "    X, W = np.polynomial.legendre.leggauss(N)\n",
    "    \n",
    "    x = 0.5 * (b-a) * X + 0.5 * (b+a)\n",
    "    w = 0.5 * (b-a) * W\n",
    "    \n",
    "    return f(x) @ w\n",
    "    "
   ]
  },
  {
   "cell_type": "code",
   "execution_count": null,
   "id": "28295ceb",
   "metadata": {},
   "outputs": [],
   "source": [
    "print(solveGaussLegendre(f, 0, 1, 10))"
   ]
  },
  {
   "cell_type": "markdown",
   "id": "3adebe0a",
   "metadata": {},
   "source": [
    "## Derivadas\n",
    "$$ \\frac{df}{dx}\\approx \\frac{f(x+\\frac{h}{2})-f(x-\\frac{h}{2})}{h}$$"
   ]
  },
  {
   "cell_type": "code",
   "execution_count": null,
   "id": "68f4e085",
   "metadata": {},
   "outputs": [],
   "source": [
    "def derivada(f, a, b, N):\n",
    "    x = np.linspace(a, b, N)\n",
    "    h = x[1]-x[0]\n",
    "    return (f(x + h/2) - f(x - h/2)) / h"
   ]
  },
  {
   "cell_type": "code",
   "execution_count": null,
   "id": "756f7c30",
   "metadata": {},
   "outputs": [],
   "source": [
    "import matplotlib.pyplot as plt\n",
    "plt.plot(np.linspace(-2*np.pi, 2*np.pi, 1000), derivada(f, -2*np.pi, 2*np.pi, 1000))\n",
    "plt.plot(np.linspace(-2*np.pi, 2*np.pi, 1000), f(np.linspace(-2*np.pi, 2*np.pi, 1000)))"
   ]
  },
  {
   "cell_type": "code",
   "execution_count": null,
   "id": "f7fee00b",
   "metadata": {},
   "outputs": [],
   "source": []
  }
 ],
 "metadata": {
  "kernelspec": {
   "display_name": "Python 3 (ipykernel)",
   "language": "python",
   "name": "python3"
  },
  "language_info": {
   "codemirror_mode": {
    "name": "ipython",
    "version": 3
   },
   "file_extension": ".py",
   "mimetype": "text/x-python",
   "name": "python",
   "nbconvert_exporter": "python",
   "pygments_lexer": "ipython3",
   "version": "3.9.13"
  }
 },
 "nbformat": 4,
 "nbformat_minor": 5
}
