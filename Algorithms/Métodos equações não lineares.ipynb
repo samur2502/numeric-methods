{
 "cells": [
  {
   "cell_type": "code",
   "execution_count": null,
   "id": "5efd5b0e",
   "metadata": {},
   "outputs": [],
   "source": [
    "import numpy as np"
   ]
  },
  {
   "cell_type": "markdown",
   "id": "22278983",
   "metadata": {},
   "source": [
    "## Método de Relaxação"
   ]
  },
  {
   "cell_type": "code",
   "execution_count": null,
   "id": "f1166c19",
   "metadata": {},
   "outputs": [],
   "source": [
    "def relax(x1, c):\n",
    "    f = lambda x, c: 1 - np.exp(-c*x)\n",
    "    g = lambda x, c: c*np.exp(-c*x2)\n",
    "    epsilon = 1\n",
    "    i = 0\n",
    "    while epsilon > 1e-6:\n",
    "        x1, x2 = f(x1,c), x1\n",
    "        epsilon = np.abs((x1-x2) / (1 - 1/(g(x2,c))))\n",
    "        i+=1\n",
    "    print(\"Aproximação:\", x1, \"       Número de iterações:\",i,\"\\n\")"
   ]
  },
  {
   "cell_type": "code",
   "execution_count": null,
   "id": "3a7de437",
   "metadata": {
    "scrolled": true
   },
   "outputs": [],
   "source": [
    "relax(1,2)"
   ]
  },
  {
   "cell_type": "markdown",
   "id": "91b71a91",
   "metadata": {},
   "source": [
    "## Método de Sobre-Relaxação"
   ]
  },
  {
   "cell_type": "code",
   "execution_count": null,
   "id": "a53454bb",
   "metadata": {},
   "outputs": [],
   "source": [
    "def overrelax(w,c):\n",
    "    f = lambda x, c: 1 - np.exp(-c*x)\n",
    "    g = lambda x, c: c*np.exp(-c*x2)\n",
    "    x2= 1\n",
    "    x1 = x2 + (1 + w)*(f(x2,2)-x2)\n",
    "    epsilon = 1\n",
    "    i = 0\n",
    "    while epsilon > 1e-6:\n",
    "        x1, x2 = (1 + w)*f(x1,c) - w*x1, x1\n",
    "        epsilon = np.abs((x1-x2) / (1 - 1/((1+w)*g(x2,c)-w)))\n",
    "        i+=1\n",
    "    print(\"Aproximação:\", x1, \"       Número de iterações:\",i,\"\\n\")"
   ]
  },
  {
   "cell_type": "code",
   "execution_count": null,
   "id": "526aff28",
   "metadata": {},
   "outputs": [],
   "source": [
    "overrelax(0.7,2)"
   ]
  },
  {
   "cell_type": "markdown",
   "id": "c0b4b2d8",
   "metadata": {},
   "source": [
    "## Método da Bisseção"
   ]
  },
  {
   "cell_type": "code",
   "execution_count": null,
   "id": "922c1024",
   "metadata": {},
   "outputs": [],
   "source": [
    "def binary(x1, x2, Erro):\n",
    "    while np.abs(x1-x2) > Erro:\n",
    "        if f(x1)*f(x2)<0:\n",
    "            x = 0.5 * (x1+x2)\n",
    "            if f(x1)*f(x)<0:\n",
    "                x2 = x\n",
    "            elif f(x1)*f(x2)==0:\n",
    "                    return x\n",
    "            else:\n",
    "                x1 = x\n",
    "        else:\n",
    "            return \"Valores não se enquadram\"\n",
    "    return x"
   ]
  },
  {
   "cell_type": "code",
   "execution_count": null,
   "id": "2261692d",
   "metadata": {},
   "outputs": [],
   "source": [
    "binary(-2,5,1e-4)"
   ]
  },
  {
   "cell_type": "markdown",
   "id": "5e3302ea",
   "metadata": {},
   "source": [
    "## Método de Newton"
   ]
  },
  {
   "cell_type": "markdown",
   "id": "c1142678",
   "metadata": {},
   "source": [
    "### 1 dimensão"
   ]
  },
  {
   "cell_type": "code",
   "execution_count": null,
   "id": "b1966095",
   "metadata": {},
   "outputs": [],
   "source": [
    "def P(x):\n",
    "    return 924*x**6 - 2772*x**5 + 3150*x**4 - 1680*x**3 + 420*x**2 - 42*x + 1\n",
    "\n",
    "def dP(x):\n",
    "    return 6*924*x**5 - 5*2772*x**4 + 4*3150*x**3 - 3*1680*x**2 + 2*420*x - 42\n",
    "\n",
    "def Newton(x0, Erro):\n",
    "    x=x0-P(x0)/dP(x0)\n",
    "    i = 0\n",
    "    while abs(x-x0)>Erro:\n",
    "        x,x0 = x-P(x)/dP(x),x\n",
    "        i += 1\n",
    "    return x, i"
   ]
  },
  {
   "cell_type": "code",
   "execution_count": null,
   "id": "48b5fb47",
   "metadata": {},
   "outputs": [],
   "source": [
    "print(\"x0 =\", Newton(0.1, 1e-10)[0])\n",
    "print(\"x1 =\", Newton(0.2, 1e-10)[0])\n",
    "print(\"x2 =\", Newton(0.4, 1e-10)[0])\n",
    "print(\"x3 =\", Newton(0.7, 1e-10)[0])\n",
    "print(\"x4 =\", Newton(0.9, 1e-10)[0])\n",
    "print(\"x5 =\", Newton(1, 1e-10)[0])"
   ]
  },
  {
   "cell_type": "markdown",
   "id": "84e79904",
   "metadata": {},
   "source": [
    "### 2 ou mais dimensões"
   ]
  },
  {
   "cell_type": "code",
   "execution_count": null,
   "id": "2fcb1b52",
   "metadata": {},
   "outputs": [],
   "source": [
    "Vmais = 5\n",
    "R1 = 1e3\n",
    "R2 = 4e3\n",
    "R3 = 3e3\n",
    "R4 = 2e3\n",
    "I0 = 3e-9\n",
    "VT = 0.05\n",
    "\n",
    "def f_V1(V1,V2):                            \n",
    "    return ((V1-Vmais)/R1) + (V1/R2) + I0*(np.exp((V1-V2)/VT)-1)  \n",
    "\n",
    "def f_V2(V1,V2):                            \n",
    "    return ((V2-Vmais)/R3) + (V2/R4) - I0*(np.exp((V1-V2)/VT)-1)\n",
    "\n",
    "def derivada_V1_V1(V1,V2):                  # derivada de f(V1) em ordem a V1 \n",
    "    return (1/R1) + (1/R2) + (I0/VT)*(np.exp((V1-V2)/VT))\n",
    "\n",
    "def derivada_V1_V2(V1,V2):                  # derivada de f(V1) em ordem a V2 \n",
    "    return -(I0/VT)*(np.exp((V1-V2)/VT))\n",
    " \n",
    "def derivada_V2_V2(V1,V2):                  # derivada de f(V2) em ordem a V2 \n",
    "    return (1/R3) + (1/R4) + (I0/VT)*(np.exp((V1-V2)/VT))\n",
    "\n",
    "def derivada_V2_V1(V1,V2):                  # derivada de f(V2) em ordem a V1 \n",
    "    return -(I0/VT)*(np.exp((V1-V2)/VT))\n",
    "\n",
    "\n",
    "def Jacobiano(V1,V2):\n",
    "    J = np.array([[derivada_V1_V1(V1,V2),derivada_V1_V2(V1,V2)],\n",
    "                  [derivada_V2_V1(V1,V2),derivada_V2_V2(V1,V2)]])\n",
    "    return J\n",
    "\n",
    "def B(V1,V2):\n",
    "    b1 = np.array([f_V1(V1,V2),f_V2(V1,V2)])      \n",
    "    return b1\n",
    "\n",
    "def solveGaussPivotParcial(A, B):\n",
    "    N = len(B)\n",
    "    linhas = np.arange(N) \n",
    "    sol = 0 * B\n",
    "\n",
    "    for p in range(N):\n",
    "        index = p + np.argmax(np.abs(A[linhas[p:], p]))\n",
    "        linhas[p], linhas[index] = linhas[index], linhas[p]\n",
    "\n",
    "        for i in range(p+1,N): \n",
    "            B[linhas[i]] -= A[linhas[i] , p] * B[linhas[p]] / A[linhas[p],p]\n",
    "            A[linhas[i],p:] -= A[linhas[i] , p] * A[linhas[p],p:] / A[linhas[p],p]\n",
    "\n",
    "    for i in range(N-1,-1,-1):\n",
    "        sol[i] = (B[linhas[i]] - np.dot(A[linhas[i],i+1:] , sol[i+1:])) / A[linhas[i],i]\n",
    "\n",
    "    return sol\n",
    "\n",
    "delta_x = np.array([1,1],float)\n",
    "x = np.array([10,10],float)\n",
    "\n",
    "while np.linalg.norm(delta_x) > 1e-6:\n",
    "    V1,V2=x[0],x[1]\n",
    "    delta_x = solveGaussPivotParcial(Jacobiano(V1,V2),B(V1,V2))                           \n",
    "    x -= delta_x\n",
    "\n",
    "print('[V1 , V2] = ', x, '(V)','\\n')"
   ]
  },
  {
   "cell_type": "code",
   "execution_count": null,
   "id": "c3c7460e",
   "metadata": {},
   "outputs": [],
   "source": []
  },
  {
   "cell_type": "markdown",
   "id": "0f6bac13",
   "metadata": {},
   "source": [
    "## Método da secante"
   ]
  },
  {
   "cell_type": "code",
   "execution_count": null,
   "id": "21f2c2f0",
   "metadata": {},
   "outputs": [],
   "source": [
    "def secant(a, b, Erro):\n",
    "    f = lambda x: x**2-2\n",
    "    epsilon = 1\n",
    "    i = 0\n",
    "    while epsilon > Erro:\n",
    "        i += 1\n",
    "        b, a = b - f(b) * ((b - a) / (f(b) - f(a))), b                           \n",
    "        epsilon = np.abs(b - a)  \n",
    "        print(a)\n",
    "    return a, i"
   ]
  },
  {
   "cell_type": "code",
   "execution_count": null,
   "id": "b320c820",
   "metadata": {},
   "outputs": [],
   "source": [
    "secant(-2,-4,1e-10)"
   ]
  },
  {
   "cell_type": "markdown",
   "id": "ee206e2e",
   "metadata": {},
   "source": [
    "## Método da Secção Áurea"
   ]
  },
  {
   "cell_type": "code",
   "execution_count": null,
   "id": "c480604d",
   "metadata": {},
   "outputs": [],
   "source": [
    "def f(x):\n",
    "    return (x**3)/(np.exp(x)-1)\n",
    "\n",
    "def aurea(func, x1, x4, ERRO):\n",
    "    z = (1 + np.sqrt(5))/2\n",
    "    x2 = x4 - (x4-x1)/z\n",
    "    x3 = x1 + (x4-x1)/z\n",
    "    f1, f2, f3, f4 = func(x1), func(x2), func(x3), func(x4)\n",
    "\n",
    "    while abs(x4-x1)>ERRO:\n",
    "        if f2<f3:\n",
    "            x4,f4 = x3,f3\n",
    "            x3,f3 = x2,f2\n",
    "            x2 = x4 - (x4-x1)/z\n",
    "            f2 = func(x2)\n",
    "        else:\n",
    "            x1,f1 = x2,f2\n",
    "            x2,f2 = x3,f3\n",
    "            x3 = x1 + (x4-x1)/z\n",
    "            f3 = func(x3)\n",
    "\n",
    "    return 0.5*(x1+x4)\n"
   ]
  },
  {
   "cell_type": "code",
   "execution_count": null,
   "id": "6b3b1dbf",
   "metadata": {},
   "outputs": [],
   "source": [
    "aurea(f,-2, 2, 1e-10)"
   ]
  },
  {
   "cell_type": "markdown",
   "id": "dac6a8ef",
   "metadata": {},
   "source": [
    "## Método de Gradiente"
   ]
  },
  {
   "cell_type": "code",
   "execution_count": null,
   "id": "0714cf39",
   "metadata": {},
   "outputs": [],
   "source": [
    "def f(x):\n",
    "    return x**4 - x**3   # Função a usar\n",
    "\n",
    "def derivada_1(x):\n",
    "    return 4*x**3 + 3*x**2    # Derivada da função a usar\n",
    "\n",
    "def derivada_2(x):\n",
    "    return 12 * x**2 + 12*x      # 2ª derivada da função a usar\n",
    "\n",
    "# Método do Gradiente\n",
    "gama = 0.01            # o valor de gama tem que ser pequeno porque senão a iteração vai para +infinito e nunca vai convergir \n",
    "count = 0\n",
    "x0 = -1\n",
    "while (np.abs(derivada_1(x0)) > 1e-10 and count < 1000 and abs(f(x0)) < 1000):    # não queremos mais de 1000 iterações\n",
    "    x0 = x0 - gama * derivada_1(x0)   \n",
    "    count += 1\n",
    "print(x0, derivada_1(x0))\n"
   ]
  },
  {
   "cell_type": "code",
   "execution_count": null,
   "id": "353e2331",
   "metadata": {},
   "outputs": [],
   "source": []
  }
 ],
 "metadata": {
  "kernelspec": {
   "display_name": "Python 3 (ipykernel)",
   "language": "python",
   "name": "python3"
  },
  "language_info": {
   "codemirror_mode": {
    "name": "ipython",
    "version": 3
   },
   "file_extension": ".py",
   "mimetype": "text/x-python",
   "name": "python",
   "nbconvert_exporter": "python",
   "pygments_lexer": "ipython3",
   "version": "3.9.13"
  }
 },
 "nbformat": 4,
 "nbformat_minor": 5
}
