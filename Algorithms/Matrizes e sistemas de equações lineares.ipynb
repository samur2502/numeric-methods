{
 "cells": [
  {
   "cell_type": "code",
   "execution_count": null,
   "id": "0969d800",
   "metadata": {},
   "outputs": [],
   "source": [
    "import numpy as np"
   ]
  },
  {
   "cell_type": "markdown",
   "id": "e8610054",
   "metadata": {},
   "source": [
    "## Eliminação de Gauss"
   ]
  },
  {
   "cell_type": "code",
   "execution_count": null,
   "id": "ad57a56d",
   "metadata": {},
   "outputs": [],
   "source": [
    "def solveGauss(A, B):\n",
    "    \n",
    "    N = len(B)\n",
    "    sol = 0.0 * B\n",
    "\n",
    "    for p in range(N):    \n",
    "        for i in range(p+1,N): \n",
    "            B[i] -= B[p] * A[i, p] / A[p,p]\n",
    "            A[i,p:] -= A[p,p:] * A[i, p] / A[p,p]\n",
    "\n",
    "    for i in range(N-1,-1,-1):\n",
    "        sol[i] = (B[i] - np.dot(A[i,i+1:] , sol[i+1:])) / A[i,i]\n",
    "    \n",
    "    return sol"
   ]
  },
  {
   "cell_type": "code",
   "execution_count": null,
   "id": "a57bcb7e",
   "metadata": {},
   "outputs": [],
   "source": [
    "A = np.array([[ 4, -1, -1, -1 ], \n",
    "              [ -1, 0, 3, -1 ] , \n",
    "              [ -1, 3, 0, -1 ] , \n",
    "              [ -1, -1, -1, 4 ]], float) \n",
    "\n",
    "B = np.array( [ 5, 5, 0, 0 ] ,float)\n",
    "\n",
    "print(solveGauss(A, B))"
   ]
  },
  {
   "cell_type": "markdown",
   "id": "2124e34f",
   "metadata": {},
   "source": [
    "## Eliminação de Gauss com pivotagem parcial"
   ]
  },
  {
   "cell_type": "code",
   "execution_count": null,
   "id": "b4fdec9c",
   "metadata": {},
   "outputs": [],
   "source": [
    "def solveGaussPivotParcial(A, B):\n",
    "    N = len(B)\n",
    "    linhas = np.arange(N) \n",
    "    sol = 0 * B\n",
    "\n",
    "    for p in range(N):\n",
    "        index = p + np.argmax(np.abs(A[linhas[p:], p]))\n",
    "        linhas[p], linhas[index] = linhas[index], linhas[p]\n",
    "\n",
    "        for i in range(p+1,N): \n",
    "            B[linhas[i]] -= A[linhas[i] , p] * B[linhas[p]] / A[linhas[p],p]\n",
    "            A[linhas[i],p:] -= A[linhas[i] , p] * A[linhas[p],p:] / A[linhas[p],p]\n",
    "\n",
    "    for i in range(N-1,-1,-1):\n",
    "        sol[i] = (B[linhas[i]] - np.dot(A[linhas[i],i+1:] , sol[i+1:])) / A[linhas[i],i]\n",
    "\n",
    "    return sol"
   ]
  },
  {
   "cell_type": "code",
   "execution_count": null,
   "id": "0d63fb8f",
   "metadata": {},
   "outputs": [],
   "source": [
    "A = np.array([[ 4, -1, -1, -1 ], \n",
    "              [ -1, 0, 3, -1 ] , \n",
    "              [ -1, 3, 0, -1 ] , \n",
    "              [ -1, -1, -1, 4 ]], float) \n",
    "\n",
    "B = np.array( [ 5, 5, 0, 0 ] ,float)\n",
    "\n",
    "print(solveGaussPivotParcial(A, B))"
   ]
  },
  {
   "cell_type": "markdown",
   "id": "03c6b4a0",
   "metadata": {},
   "source": [
    "## Eliminação de Gauss-Jordan"
   ]
  },
  {
   "cell_type": "code",
   "execution_count": null,
   "id": "489a7fe2",
   "metadata": {},
   "outputs": [],
   "source": [
    "def solveGaussJordan(A, B):\n",
    "    \n",
    "    N = len(B)\n",
    "    AA = np.zeros([N,N+1])\n",
    "    AA[:N,:N] = A\n",
    "    AA[:,N] = B\n",
    "    \n",
    "    for p in range(N):   \n",
    "        \n",
    "        AA[p,p:] /= AA[p,p]\n",
    "        \n",
    "        for i in range(p):\n",
    "            AA[i,p:] -= AA[i ,p] * AA[p,p:]             \n",
    "    \n",
    "        for i in range(p+1,N): \n",
    "            AA[i,p:] -= AA[i ,p] * AA[p,p:] \n",
    "    \n",
    "    return AA[:,-1]"
   ]
  },
  {
   "cell_type": "code",
   "execution_count": null,
   "id": "dc2b9b11",
   "metadata": {},
   "outputs": [],
   "source": [
    "A = np.array([[ 4, -1, -1, -1 ], \n",
    "              [ -1, 0, 3, -1 ] , \n",
    "              [ -1, 3, 0, -1 ] , \n",
    "              [ -1, -1, -1, 4 ]], float) \n",
    "\n",
    "B = np.array( [ 5, 5, 0, 0 ] ,float)\n",
    "\n",
    "print(solveGaussJordan(A, B))"
   ]
  },
  {
   "cell_type": "markdown",
   "id": "aed98df3",
   "metadata": {},
   "source": [
    "## Eliminação de Gauss-Jordan com pivotagem parcial"
   ]
  },
  {
   "cell_type": "code",
   "execution_count": null,
   "id": "331aecb3",
   "metadata": {},
   "outputs": [],
   "source": [
    "def solveGaussJordanPivotParcial(A, B):\n",
    "    \n",
    "    N = len(B)\n",
    "    AA = np.zeros([N,N+1])\n",
    "    AA[:N,:N] = A\n",
    "    AA[:,N] = B\n",
    "    linhas = np.arange(N)\n",
    "    \n",
    "    for p in range(N):\n",
    "        \n",
    "        index = p + np.argmax(np.abs(A[linhas[p:], p]))\n",
    "        linhas[p], linhas[index] = linhas[index], linhas[p]\n",
    "        \n",
    "        AA[linhas[p],p:] /= AA[linhas[p],p]\n",
    "        \n",
    "        for i in range(p):\n",
    "            AA[linhas[i],p:] -= AA[linhas[i], p] * AA[linhas[p],p:]             \n",
    "    \n",
    "        for i in range(p+1,N): \n",
    "            AA[linhas[i],p:] -= AA[linhas[i], p] * AA[linhas[p],p:] \n",
    "    \n",
    "    return AA[linhas[:],-1]"
   ]
  },
  {
   "cell_type": "code",
   "execution_count": null,
   "id": "24b2c8d5",
   "metadata": {},
   "outputs": [],
   "source": [
    "A = np.array([[ 0, -1, -1, -1 ], \n",
    "              [ -1, 0, 3, -1 ] , \n",
    "              [ -1, 3, 0, -1 ] , \n",
    "              [ -1, -1, -1, 4 ]], float) \n",
    "\n",
    "B = np.array( [ 5, 5, 0, 0 ] ,float)\n",
    "\n",
    "print(solveGaussJordanPivotParcial(A, B))"
   ]
  },
  {
   "cell_type": "markdown",
   "id": "101c0d95",
   "metadata": {},
   "source": [
    "## Eliminação de Gauss-Jordan com pivotagem total"
   ]
  },
  {
   "cell_type": "code",
   "execution_count": null,
   "id": "0b819320",
   "metadata": {},
   "outputs": [],
   "source": [
    "def solveGaussJordanPivotTotal(A, B):\n",
    "    \n",
    "    N = len(B)\n",
    "    AA = np.zeros([N,N+1])\n",
    "    AA[:N,:N] = A\n",
    "    AA[:,N] = B\n",
    "    linhas = np.arange(N)\n",
    "    colunas = np.arange(N+1)\n",
    "    aa = np.zeros(N*N)\n",
    "    \n",
    "    for p in range(N):\n",
    "        m = N-p\n",
    "        \n",
    "        for i in range(m):\n",
    "            aa[i * m:(i+1) * m] = AA[linhas[p+i],colunas[p:-1]]\n",
    "        \n",
    "        index = np.argmax(np.abs(aa[:m*m]))\n",
    "        l = p + index//m\n",
    "        c = p + index%m\n",
    "        \n",
    "        linhas[p], linhas[l] = linhas[l], linhas[p]\n",
    "        colunas[p], colunas[c] = colunas[c], colunas[p]\n",
    "        \n",
    "        AA[linhas[p],colunas[p:]] /= AA[linhas[p],colunas[p]]\n",
    "        \n",
    "        for i in range(p):\n",
    "            AA[linhas[i],colunas[p:]] -= AA[linhas[i], colunas[p]] * AA[linhas[p],colunas[p:]]             \n",
    "    \n",
    "        for i in range(p+1,N): \n",
    "            AA[linhas[i],colunas[p:]] -= AA[linhas[i], colunas[p]] * AA[linhas[p],colunas[p:]] \n",
    "    \n",
    "    return AA[colunas[linhas[:]],-1]"
   ]
  },
  {
   "cell_type": "code",
   "execution_count": null,
   "id": "e79d4477",
   "metadata": {},
   "outputs": [],
   "source": [
    "A = np.array([[ 4, -1, 0, 0 ], \n",
    "              [ -1, 2, 3, 0 ] , \n",
    "              [ 0, 3, 3, -1 ] , \n",
    "              [ 0, 0, -1, 4 ]], float) \n",
    "\n",
    "B = np.array( [ 1, 2, 0, 1 ] ,float)\n",
    "\n",
    "print(solveGaussJordanPivotTotal(A, B))\n",
    "print(np.linalg.solve(A, B))"
   ]
  },
  {
   "cell_type": "markdown",
   "id": "9eac6bb1",
   "metadata": {},
   "source": [
    "## Decompusição LU"
   ]
  },
  {
   "cell_type": "code",
   "execution_count": null,
   "id": "032889bf",
   "metadata": {},
   "outputs": [],
   "source": [
    "def LU(A):\n",
    "    N = len(A)\n",
    "    L = np.zeros([N,N])\n",
    "    U = np.identity(N)  \n",
    "    \n",
    "    for i in range(N):\n",
    "        L[i:,i] = A[i:,i] - np.dot(L[i:,:i], U[:i,i])                  \n",
    "        U[i,i+1:] = (A[i,i+1:] - np.dot(L[i,:i], U[:i,i+1:])) / L[i,i]  \n",
    "        \n",
    "    return L, U"
   ]
  },
  {
   "cell_type": "code",
   "execution_count": null,
   "id": "9b2eceab",
   "metadata": {},
   "outputs": [],
   "source": [
    "A = np.random.random_sample([4,4])\n",
    "L, U = LU(A.copy())\n",
    "\n",
    "print(\"Matriz L: \\n\", L, \"\\n\")\n",
    "print(\"Matriz U: \\n\", U, \"\\n\")\n",
    "print(\"Matriz LU: \\n\", np.dot(L,U), \"\\n\")\n",
    "print(\"Matriz A: \\n\", A, \"\\n\")\n",
    "print(\"Comparação: \\n\", np.linalg.norm(A - np.dot(L,U)))  "
   ]
  },
  {
   "cell_type": "markdown",
   "id": "ae859086",
   "metadata": {},
   "source": [
    "### Decompusição LU com pivotagem parcial"
   ]
  },
  {
   "cell_type": "code",
   "execution_count": null,
   "id": "9c1e115e",
   "metadata": {},
   "outputs": [],
   "source": [
    "def LUPivot(A):\n",
    "\n",
    "    N = len(A)\n",
    "    L = np.zeros([N,N], float)\n",
    "    U = np.identity(N)\n",
    "    linhas = np.arange(N)\n",
    "    \n",
    "    for p in range(N):\n",
    "        for i in range (p,N):\n",
    "            L[linhas[i],p] = A[linhas[i],p] - np.dot(L[linhas[i],:p],U[:p,p])\n",
    "        index = p + np.argmax(np.abs(L[linhas[p:],p]))\n",
    "        linhas[p], linhas[index] = linhas[index], linhas[p]\n",
    "        \n",
    "        for i in range(p,N):\n",
    "            L[linhas[i],p] = A[linhas[i],p] - np.dot(L[linhas[i],:p], U[:p,p])\n",
    "            \n",
    "        for i in range(p + 1,N):\n",
    "            U[p, i] = (A[linhas[p], i] - np.dot(L[linhas[p],:p], U[:p, i]) )/L[linhas[p],p]\n",
    "    \n",
    "    return L[linhas,:], U, linhas"
   ]
  },
  {
   "cell_type": "code",
   "execution_count": null,
   "id": "94a21d03",
   "metadata": {},
   "outputs": [],
   "source": [
    "A = np.random.random_sample([4,4])\n",
    "A[0,0] = 0\n",
    "L, U, linhas = LUPivot(A.copy())\n",
    "\n",
    "print(\"Matriz L: \\n\", L, \"\\n\")\n",
    "print(\"Matriz U: \\n\", U, \"\\n\")\n",
    "print(\"Matriz LU: \\n\", np.dot(L,U), \"\\n\")\n",
    "print(\"Matriz A: \\n\", A[linhas,:], \"\\n\")\n",
    "print(\"Comparação: \\n\", np.linalg.norm(A[linhas,:] - np.dot(L,U))) "
   ]
  },
  {
   "cell_type": "markdown",
   "id": "549af780",
   "metadata": {},
   "source": [
    "### LU partindo do método de eliminação de Gauss"
   ]
  },
  {
   "cell_type": "code",
   "execution_count": null,
   "id": "6f071791",
   "metadata": {},
   "outputs": [],
   "source": [
    "def LUGaussSeidel(A):\n",
    "\n",
    "    N = len(A)\n",
    "    L = np.zeros([N,N],dtype=float)\n",
    "    U = np.copy(A)\n",
    "\n",
    "    for p in range(N):\n",
    "        L[p:,p] = U[p:, p]\n",
    "        U[p,:] /= U[p,p]\n",
    "        \n",
    "        for i in range(p + 1, N):\n",
    "            U[i,p:] -= U[i,p] * U[p,p:]\n",
    "            \n",
    "    return L, U"
   ]
  },
  {
   "cell_type": "code",
   "execution_count": null,
   "id": "a7e9910a",
   "metadata": {},
   "outputs": [],
   "source": [
    "A = np.random.random_sample([4,4])\n",
    "L, U = LUGaussSeidel(A.copy())\n",
    "\n",
    "print(\"Matriz L: \\n\", L, \"\\n\")\n",
    "print(\"Matriz U: \\n\", U, \"\\n\")\n",
    "print(\"Matriz LU: \\n\", np.dot(L,U), \"\\n\")\n",
    "print(\"Matriz A: \\n\", A, \"\\n\")\n",
    "print(\"Comparação: \\n\", np.linalg.norm(A - np.dot(L,U))) "
   ]
  },
  {
   "cell_type": "markdown",
   "id": "4cb10d2f",
   "metadata": {},
   "source": [
    "### LU partindo do método de eliminação de Gauss com pivot"
   ]
  },
  {
   "cell_type": "code",
   "execution_count": null,
   "id": "f220b0ac",
   "metadata": {},
   "outputs": [],
   "source": [
    "def LUGaussSeidelPivot(A):\n",
    "    N = len(A)\n",
    "    L = np.zeros([N,N])\n",
    "    U = np.copy(A)\n",
    "    linhas = np.arange(N)\n",
    "    \n",
    "    for p in range(N):\n",
    "        index = p + np.argmax(np.abs(U[linhas[p:],p]))\n",
    "        linhas[p], linhas[index] = linhas[index], linhas[p]\n",
    "        \n",
    "        L[linhas[p:],p] = U[linhas[p:], p]     \n",
    "        U[linhas[p],:] /= U[linhas[p],p]       \n",
    "        for i in range(p+1, N):\n",
    "            U[linhas[i],p:] -= U[linhas[i],p] * U[linhas[p],p:]\n",
    "        \n",
    "    return L[linhas,:], U[linhas,:], linhas"
   ]
  },
  {
   "cell_type": "code",
   "execution_count": null,
   "id": "9bd9c477",
   "metadata": {},
   "outputs": [],
   "source": [
    "A = np.random.random_sample([4,4])\n",
    "A[0,0] = 0\n",
    "L, U, linhas = LUGaussSeidelPivot(A.copy())\n",
    "\n",
    "print(\"Matriz L: \\n\", L, \"\\n\")\n",
    "print(\"Matriz U: \\n\", U, \"\\n\")\n",
    "print(\"Matriz LU: \\n\", np.dot(L,U), \"\\n\")\n",
    "print(\"Matriz A: \\n\", A[linhas,:], \"\\n\")\n",
    "print(\"Comparação: \\n\", np.linalg.norm(A[linhas,:] - np.dot(L,U))) "
   ]
  },
  {
   "cell_type": "markdown",
   "id": "462a13c6",
   "metadata": {},
   "source": [
    "### Resolver sistema com decomposição LU"
   ]
  },
  {
   "cell_type": "code",
   "execution_count": null,
   "id": "7bbadb5d",
   "metadata": {},
   "outputs": [],
   "source": [
    "def LURes(A, B):\n",
    "    L, U = LU(A)\n",
    "    #L, U = LUGaussSeidel(A)\n",
    "    #L, U, linhas = LUGaussSeidelPivot(A) \n",
    "    #L, U, linhas = LUPivot(A)\n",
    "    #B = B[linhas]\n",
    "\n",
    "    N = len(B)\n",
    "    y = np.zeros(N)\n",
    "    x = np.zeros(N)\n",
    "\n",
    "    \n",
    "    for i in range(N):\n",
    "        y[i] = B[i] / L[i,i]\n",
    "        \n",
    "        for j in range(i):\n",
    "            y[i] -= (L[i,j] * y[j]) / L[i,i]\n",
    "    \n",
    "    for i in range(N-1,-1,-1):\n",
    "        x[i] = y[i]\n",
    "        \n",
    "        for j in range(i+1, N):\n",
    "            x[i] -= U[i,j] * x[j]\n",
    "            \n",
    "    return x"
   ]
  },
  {
   "cell_type": "code",
   "execution_count": null,
   "id": "132c5780",
   "metadata": {},
   "outputs": [],
   "source": [
    "A = np.random.random_sample([6,6])\n",
    "B = np.random.random_sample([6])\n",
    "\n",
    "print(\"Solução do sistema obtida:\\n\", LURes(A.copy(),B.copy()))\n",
    "print(\"\\nSolução do sistema:\\n\", np.linalg.solve(A,B))"
   ]
  },
  {
   "cell_type": "markdown",
   "id": "6c599e35",
   "metadata": {},
   "source": [
    "## Matriz inversa"
   ]
  },
  {
   "cell_type": "code",
   "execution_count": null,
   "id": "d327ecc2",
   "metadata": {},
   "outputs": [],
   "source": [
    "def GaussJordanInv(A):\n",
    "    \n",
    "    N = len(A)\n",
    "    B = np.identity(N)\n",
    "    AA = np.zeros([N,2*N])\n",
    "    AA[:N,:N] = A\n",
    "    AA[:,N:] = B\n",
    "    \n",
    "    linhas = np.arange(N)\n",
    "    \n",
    "    for p in range(N):\n",
    "        index = p + np.argmax(np.abs(A[linhas[p:], p]))\n",
    "        linhas[p], linhas[index] = linhas[index], linhas[p]\n",
    "        \n",
    "        AA[linhas[p],p:] /= AA[linhas[p],p]\n",
    "        \n",
    "        for i in range(p):\n",
    "            AA[linhas[i],p:] -= AA[linhas[i], p] * AA[linhas[p],p:]             \n",
    "    \n",
    "        for i in range(p+1,N): \n",
    "            AA[linhas[i],p:] -= AA[linhas[i], p] * AA[linhas[p],p:] \n",
    "            \n",
    "    return (AA[linhas[:],N:])"
   ]
  },
  {
   "cell_type": "code",
   "execution_count": null,
   "id": "d58c1927",
   "metadata": {},
   "outputs": [],
   "source": [
    "A = np.random.random_sample([4,4])\n",
    "inv = GaussJordanInv(A.copy())\n",
    "\n",
    "print(\"Matriz A:\\n\", A, \"\\n\")\n",
    "print(\"Matriz inversa obtida:\\n\", inv, \"\\n\")\n",
    "print(\"Matriz inversa:\\n\", np.linalg.inv(A), \"\\n\")\n",
    "print(\"Comparação: \\n\", np.linalg.norm(inv - np.linalg.inv(A)))  "
   ]
  },
  {
   "cell_type": "markdown",
   "id": "b8bdabe9",
   "metadata": {},
   "source": [
    "## Decompusição LU de matriz tridiagonal"
   ]
  },
  {
   "cell_type": "code",
   "execution_count": null,
   "id": "203572d8",
   "metadata": {},
   "outputs": [],
   "source": [
    "def LUTrid(A):\n",
    "    \n",
    "    N = len(A)\n",
    "\n",
    "    DD = np.zeros(N)\n",
    "    DI = np.zeros(N-1)\n",
    "    DS = np.zeros(N-1)\n",
    "    U = np.zeros([N,N])\n",
    "    L = np.zeros([N,N])\n",
    "    LD = np.zeros(N) \n",
    "    LI = np.zeros(N-1) \n",
    "    US = np.zeros(N-1) \n",
    "\n",
    "    for p in range(N):\n",
    "        DD[p] = A[p,p]\n",
    "\n",
    "    for p in range(N-1):\n",
    "        DI[p] = A[p+1,p]\n",
    "        DS[p] = A[p,p+1]\n",
    "\n",
    "    LD[0]=DD[0]\n",
    "\n",
    "    for i in range(N-1):\n",
    "        LI[i] = DI[i]\n",
    "        US[i] = DS[i] / LD[i]\n",
    "        LD[i+1] = DD[i+1] - LI[i] * US[i]\n",
    "\n",
    "    for i in range(N):\n",
    "        L[i,i]=LD[i]\n",
    "        U[i,i]=1\n",
    "    \n",
    "    for i in range(N-1):\n",
    "        L[i+1,i]=LI[i]\n",
    "        U[i,i+1]=US[i]\n",
    "\n",
    "    print('Matriz U: \\n',U,'\\n\\n Matriz L: \\n',L,'\\n\\n Matriz A: \\n',A,'\\n\\n Matriz LU: \\n',np.dot(L,U),\"\\n\")\n",
    "    print(\"Diferença de norma =\", np.linalg.norm(A-np.dot(L,U)))\n"
   ]
  },
  {
   "cell_type": "code",
   "execution_count": null,
   "id": "9e247476",
   "metadata": {},
   "outputs": [],
   "source": [
    "A = np.array([[2,1,0,0],[3,4,-1,0],[0,-4,1,5],[0,0,1,3]], float)\n",
    "LUTrid(A)"
   ]
  },
  {
   "cell_type": "markdown",
   "id": "f86995a7",
   "metadata": {},
   "source": [
    "## Decomposição QR - Gram Schmidt"
   ]
  },
  {
   "cell_type": "code",
   "execution_count": null,
   "id": "b284b9c9",
   "metadata": {},
   "outputs": [],
   "source": [
    "def QRGramschmidt(A):\n",
    "    N = len(A)\n",
    "    Q = np.zeros([N,N])\n",
    "    R = np.zeros([N,N])\n",
    "    \n",
    "    for i in range(N):\n",
    "        u = A[:,i] - np.dot(Q[:,:i], np.dot(A[:,i], Q[:,:i]))\n",
    "        Q[:,i] = u / np.linalg.norm(u)\n",
    "        R[i,i:] = np.dot(Q[:,i], A[:,i:])\n",
    "    \n",
    "    return Q, R"
   ]
  },
  {
   "cell_type": "code",
   "execution_count": null,
   "id": "2f609f62",
   "metadata": {},
   "outputs": [],
   "source": [
    "A = np.random.random_sample([4,4])\n",
    "Q, R = QRGramschmidt(A)\n",
    "\n",
    "print(\"Matriz A:\\n\", A, \"\\n\")    \n",
    "print(\"Matriz QR:\\n\", np.dot(Q,R), \"\\n\")\n",
    "print(\"Comparação:\\n\", np.linalg.norm(A - np.dot(Q,R))) "
   ]
  },
  {
   "cell_type": "markdown",
   "id": "9a69e51a",
   "metadata": {},
   "source": [
    "## Decomposição QR -  Householder"
   ]
  },
  {
   "cell_type": "code",
   "execution_count": null,
   "id": "09395cf9",
   "metadata": {},
   "outputs": [],
   "source": [
    "def QRHouseholder(A):\n",
    "    N = len(A)          \n",
    "    Q = np.identity(N)\n",
    "    R = A.copy()\n",
    "    c1 = np.zeros(N) \n",
    "    c1[0] = 1\n",
    "    \n",
    "    for i in range(N-1):\n",
    "        c = np.linalg.norm(R[i:,i])          \n",
    "        u = R[i:,i] - c *c1[:N-i]            \n",
    "        u2 = np.dot(u,u)\n",
    "        Q[:,i:] -= 2 * np.outer(np.dot(Q[:,i:], u), u) / u2     \n",
    "        R[i:,i:] += -2 * np.outer(u, np.dot(u, R[i:,i:])) / u2   \n",
    "        \n",
    "    return Q,R"
   ]
  },
  {
   "cell_type": "code",
   "execution_count": null,
   "id": "9e981a45",
   "metadata": {},
   "outputs": [],
   "source": [
    "A = np.random.random_sample([4,4])\n",
    "Q, R = QRHouseholder(A)\n",
    "\n",
    "print(\"Matriz A:\\n\", A, \"\\n\")    \n",
    "print(\"Matriz QR:\\n\", np.dot(Q,R), \"\\n\")\n",
    "print(\"Comparação:\\n\", np.linalg.norm(A - np.dot(Q,R))) "
   ]
  },
  {
   "cell_type": "markdown",
   "id": "e7689910",
   "metadata": {},
   "source": [
    "## Decomposição QR -  autovalores e autovetores "
   ]
  },
  {
   "cell_type": "code",
   "execution_count": null,
   "id": "87073688",
   "metadata": {},
   "outputs": [],
   "source": [
    "A = np.random.random_sample([4,4])\n",
    "A = (A + A.T)/2\n",
    "print(A)\n",
    "Q, R = QRHouseholder(A)\n",
    "\n",
    "e, v = np.linalg.eig(A)\n",
    "V = np.identity(len(A))\n",
    "epsilon = 1\n",
    "\n",
    "while epsilon>1e-10:\n",
    "    Q, R = QRGramschmidt(A)\n",
    "    V = np.dot(V, Q)\n",
    "    A = np.dot(R, Q)\n",
    "    epsilon = np.linalg.norm(A-np.diag(np.diagonal(A)))\n",
    "\n",
    "i1 = np.argsort(e)\n",
    "i2 = np.argsort(np.diagonal(A))\n",
    "\n",
    "print(e[i1])\n",
    "print(np.diagonal(A)[i2])\n",
    "print(v[:,i1]/V[:,i2])"
   ]
  },
  {
   "cell_type": "code",
   "execution_count": null,
   "id": "26874c8d",
   "metadata": {},
   "outputs": [],
   "source": []
  }
 ],
 "metadata": {
  "kernelspec": {
   "display_name": "Python 3 (ipykernel)",
   "language": "python",
   "name": "python3"
  },
  "language_info": {
   "codemirror_mode": {
    "name": "ipython",
    "version": 3
   },
   "file_extension": ".py",
   "mimetype": "text/x-python",
   "name": "python",
   "nbconvert_exporter": "python",
   "pygments_lexer": "ipython3",
   "version": "3.10.12"
  }
 },
 "nbformat": 4,
 "nbformat_minor": 5
}
